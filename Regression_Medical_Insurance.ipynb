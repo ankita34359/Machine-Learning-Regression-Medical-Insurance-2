{
 "cells": [
  {
   "cell_type": "code",
   "execution_count": 101,
   "id": "abaab7f8-58b4-4567-b840-2a7d5bca8ca5",
   "metadata": {},
   "outputs": [],
   "source": [
    "import pandas as pd\n",
    "import numpy as np"
   ]
  },
  {
   "cell_type": "code",
   "execution_count": 102,
   "id": "486b58fb-9e36-42c1-b3b8-dc26ca476e22",
   "metadata": {},
   "outputs": [],
   "source": [
    "df = pd.read_csv(\"insurance.csv\")"
   ]
  },
  {
   "cell_type": "code",
   "execution_count": 3,
   "id": "5e23bd94-d444-4608-8b72-f7d96d6586f5",
   "metadata": {},
   "outputs": [
    {
     "name": "stdout",
     "output_type": "stream",
     "text": [
      "      age     sex     bmi  children smoker     region      charges\n",
      "0      19  female  27.900         0    yes  southwest  16884.92400\n",
      "1      18    male  33.770         1     no  southeast   1725.55230\n",
      "2      28    male  33.000         3     no  southeast   4449.46200\n",
      "3      33    male  22.705         0     no  northwest  21984.47061\n",
      "4      32    male  28.880         0     no  northwest   3866.85520\n",
      "...   ...     ...     ...       ...    ...        ...          ...\n",
      "1333   50    male  30.970         3     no  northwest  10600.54830\n",
      "1334   18  female  31.920         0     no  northeast   2205.98080\n",
      "1335   18  female  36.850         0     no  southeast   1629.83350\n",
      "1336   21  female  25.800         0     no  southwest   2007.94500\n",
      "1337   61  female  29.070         0    yes  northwest  29141.36030\n",
      "\n",
      "[1338 rows x 7 columns]\n"
     ]
    }
   ],
   "source": [
    "print(df)"
   ]
  },
  {
   "cell_type": "code",
   "execution_count": 4,
   "id": "3de56df7-eda1-4090-91fc-76e09f856a1d",
   "metadata": {},
   "outputs": [
    {
     "data": {
      "text/html": [
       "<div>\n",
       "<style scoped>\n",
       "    .dataframe tbody tr th:only-of-type {\n",
       "        vertical-align: middle;\n",
       "    }\n",
       "\n",
       "    .dataframe tbody tr th {\n",
       "        vertical-align: top;\n",
       "    }\n",
       "\n",
       "    .dataframe thead th {\n",
       "        text-align: right;\n",
       "    }\n",
       "</style>\n",
       "<table border=\"1\" class=\"dataframe\">\n",
       "  <thead>\n",
       "    <tr style=\"text-align: right;\">\n",
       "      <th></th>\n",
       "      <th>age</th>\n",
       "      <th>sex</th>\n",
       "      <th>bmi</th>\n",
       "      <th>children</th>\n",
       "      <th>smoker</th>\n",
       "      <th>region</th>\n",
       "      <th>charges</th>\n",
       "    </tr>\n",
       "  </thead>\n",
       "  <tbody>\n",
       "    <tr>\n",
       "      <th>0</th>\n",
       "      <td>19</td>\n",
       "      <td>female</td>\n",
       "      <td>27.900</td>\n",
       "      <td>0</td>\n",
       "      <td>yes</td>\n",
       "      <td>southwest</td>\n",
       "      <td>16884.92400</td>\n",
       "    </tr>\n",
       "    <tr>\n",
       "      <th>1</th>\n",
       "      <td>18</td>\n",
       "      <td>male</td>\n",
       "      <td>33.770</td>\n",
       "      <td>1</td>\n",
       "      <td>no</td>\n",
       "      <td>southeast</td>\n",
       "      <td>1725.55230</td>\n",
       "    </tr>\n",
       "    <tr>\n",
       "      <th>2</th>\n",
       "      <td>28</td>\n",
       "      <td>male</td>\n",
       "      <td>33.000</td>\n",
       "      <td>3</td>\n",
       "      <td>no</td>\n",
       "      <td>southeast</td>\n",
       "      <td>4449.46200</td>\n",
       "    </tr>\n",
       "    <tr>\n",
       "      <th>3</th>\n",
       "      <td>33</td>\n",
       "      <td>male</td>\n",
       "      <td>22.705</td>\n",
       "      <td>0</td>\n",
       "      <td>no</td>\n",
       "      <td>northwest</td>\n",
       "      <td>21984.47061</td>\n",
       "    </tr>\n",
       "    <tr>\n",
       "      <th>4</th>\n",
       "      <td>32</td>\n",
       "      <td>male</td>\n",
       "      <td>28.880</td>\n",
       "      <td>0</td>\n",
       "      <td>no</td>\n",
       "      <td>northwest</td>\n",
       "      <td>3866.85520</td>\n",
       "    </tr>\n",
       "  </tbody>\n",
       "</table>\n",
       "</div>"
      ],
      "text/plain": [
       "   age     sex     bmi  children smoker     region      charges\n",
       "0   19  female  27.900         0    yes  southwest  16884.92400\n",
       "1   18    male  33.770         1     no  southeast   1725.55230\n",
       "2   28    male  33.000         3     no  southeast   4449.46200\n",
       "3   33    male  22.705         0     no  northwest  21984.47061\n",
       "4   32    male  28.880         0     no  northwest   3866.85520"
      ]
     },
     "execution_count": 4,
     "metadata": {},
     "output_type": "execute_result"
    }
   ],
   "source": [
    "df.head()"
   ]
  },
  {
   "cell_type": "markdown",
   "id": "08081c72-05a8-4d6e-99e3-e716a6cf2a4c",
   "metadata": {},
   "source": [
    "Checking NaN Value"
   ]
  },
  {
   "cell_type": "code",
   "execution_count": 103,
   "id": "63347fbe-738f-456f-aed7-79a9adc14c18",
   "metadata": {},
   "outputs": [
    {
     "data": {
      "text/plain": [
       "age         0\n",
       "sex         0\n",
       "bmi         0\n",
       "children    0\n",
       "smoker      0\n",
       "region      0\n",
       "charges     0\n",
       "dtype: int64"
      ]
     },
     "execution_count": 103,
     "metadata": {},
     "output_type": "execute_result"
    }
   ],
   "source": [
    "df.isna().sum()"
   ]
  },
  {
   "cell_type": "markdown",
   "id": "c5b878c8-b012-4531-bad5-a1aad1ea0cf9",
   "metadata": {},
   "source": [
    "Encoding the Categorical Data"
   ]
  },
  {
   "cell_type": "markdown",
   "id": "f5236f43-c0e3-479f-9368-3b15d2a2b850",
   "metadata": {},
   "source": [
    "1.) Using Map"
   ]
  },
  {
   "cell_type": "code",
   "execution_count": 104,
   "id": "71a10cfa-32f2-4254-94a9-116ca57026b4",
   "metadata": {},
   "outputs": [],
   "source": [
    " df[\"sex\"] = df[\"sex\"].map({\"male\":0, \"female\":1})"
   ]
  },
  {
   "cell_type": "code",
   "execution_count": 55,
   "id": "044fa988-2d0e-42b7-a1f8-4a2ab6ce6277",
   "metadata": {},
   "outputs": [
    {
     "data": {
      "text/html": [
       "<div>\n",
       "<style scoped>\n",
       "    .dataframe tbody tr th:only-of-type {\n",
       "        vertical-align: middle;\n",
       "    }\n",
       "\n",
       "    .dataframe tbody tr th {\n",
       "        vertical-align: top;\n",
       "    }\n",
       "\n",
       "    .dataframe thead th {\n",
       "        text-align: right;\n",
       "    }\n",
       "</style>\n",
       "<table border=\"1\" class=\"dataframe\">\n",
       "  <thead>\n",
       "    <tr style=\"text-align: right;\">\n",
       "      <th></th>\n",
       "      <th>age</th>\n",
       "      <th>sex</th>\n",
       "      <th>bmi</th>\n",
       "      <th>children</th>\n",
       "      <th>smoker</th>\n",
       "      <th>region</th>\n",
       "      <th>charges</th>\n",
       "    </tr>\n",
       "  </thead>\n",
       "  <tbody>\n",
       "    <tr>\n",
       "      <th>0</th>\n",
       "      <td>19</td>\n",
       "      <td>1</td>\n",
       "      <td>27.900</td>\n",
       "      <td>0</td>\n",
       "      <td>yes</td>\n",
       "      <td>southwest</td>\n",
       "      <td>16884.92400</td>\n",
       "    </tr>\n",
       "    <tr>\n",
       "      <th>1</th>\n",
       "      <td>18</td>\n",
       "      <td>0</td>\n",
       "      <td>33.770</td>\n",
       "      <td>1</td>\n",
       "      <td>no</td>\n",
       "      <td>southeast</td>\n",
       "      <td>1725.55230</td>\n",
       "    </tr>\n",
       "    <tr>\n",
       "      <th>2</th>\n",
       "      <td>28</td>\n",
       "      <td>0</td>\n",
       "      <td>33.000</td>\n",
       "      <td>3</td>\n",
       "      <td>no</td>\n",
       "      <td>southeast</td>\n",
       "      <td>4449.46200</td>\n",
       "    </tr>\n",
       "    <tr>\n",
       "      <th>3</th>\n",
       "      <td>33</td>\n",
       "      <td>0</td>\n",
       "      <td>22.705</td>\n",
       "      <td>0</td>\n",
       "      <td>no</td>\n",
       "      <td>northwest</td>\n",
       "      <td>21984.47061</td>\n",
       "    </tr>\n",
       "    <tr>\n",
       "      <th>4</th>\n",
       "      <td>32</td>\n",
       "      <td>0</td>\n",
       "      <td>28.880</td>\n",
       "      <td>0</td>\n",
       "      <td>no</td>\n",
       "      <td>northwest</td>\n",
       "      <td>3866.85520</td>\n",
       "    </tr>\n",
       "  </tbody>\n",
       "</table>\n",
       "</div>"
      ],
      "text/plain": [
       "   age  sex     bmi  children smoker     region      charges\n",
       "0   19    1  27.900         0    yes  southwest  16884.92400\n",
       "1   18    0  33.770         1     no  southeast   1725.55230\n",
       "2   28    0  33.000         3     no  southeast   4449.46200\n",
       "3   33    0  22.705         0     no  northwest  21984.47061\n",
       "4   32    0  28.880         0     no  northwest   3866.85520"
      ]
     },
     "execution_count": 55,
     "metadata": {},
     "output_type": "execute_result"
    }
   ],
   "source": [
    "df.head()"
   ]
  },
  {
   "cell_type": "code",
   "execution_count": 105,
   "id": "817910e1-46df-4404-ac98-deb5aa8e41f6",
   "metadata": {},
   "outputs": [],
   "source": [
    "df[\"smoker\"] = df[\"smoker\"].map({\"no\":0, \"yes\":1})"
   ]
  },
  {
   "cell_type": "code",
   "execution_count": 57,
   "id": "712d250b-a47f-4c6e-99cb-ca86c1ce3eca",
   "metadata": {},
   "outputs": [
    {
     "data": {
      "text/html": [
       "<div>\n",
       "<style scoped>\n",
       "    .dataframe tbody tr th:only-of-type {\n",
       "        vertical-align: middle;\n",
       "    }\n",
       "\n",
       "    .dataframe tbody tr th {\n",
       "        vertical-align: top;\n",
       "    }\n",
       "\n",
       "    .dataframe thead th {\n",
       "        text-align: right;\n",
       "    }\n",
       "</style>\n",
       "<table border=\"1\" class=\"dataframe\">\n",
       "  <thead>\n",
       "    <tr style=\"text-align: right;\">\n",
       "      <th></th>\n",
       "      <th>age</th>\n",
       "      <th>sex</th>\n",
       "      <th>bmi</th>\n",
       "      <th>children</th>\n",
       "      <th>smoker</th>\n",
       "      <th>region</th>\n",
       "      <th>charges</th>\n",
       "    </tr>\n",
       "  </thead>\n",
       "  <tbody>\n",
       "    <tr>\n",
       "      <th>0</th>\n",
       "      <td>19</td>\n",
       "      <td>1</td>\n",
       "      <td>27.900</td>\n",
       "      <td>0</td>\n",
       "      <td>1</td>\n",
       "      <td>southwest</td>\n",
       "      <td>16884.92400</td>\n",
       "    </tr>\n",
       "    <tr>\n",
       "      <th>1</th>\n",
       "      <td>18</td>\n",
       "      <td>0</td>\n",
       "      <td>33.770</td>\n",
       "      <td>1</td>\n",
       "      <td>0</td>\n",
       "      <td>southeast</td>\n",
       "      <td>1725.55230</td>\n",
       "    </tr>\n",
       "    <tr>\n",
       "      <th>2</th>\n",
       "      <td>28</td>\n",
       "      <td>0</td>\n",
       "      <td>33.000</td>\n",
       "      <td>3</td>\n",
       "      <td>0</td>\n",
       "      <td>southeast</td>\n",
       "      <td>4449.46200</td>\n",
       "    </tr>\n",
       "    <tr>\n",
       "      <th>3</th>\n",
       "      <td>33</td>\n",
       "      <td>0</td>\n",
       "      <td>22.705</td>\n",
       "      <td>0</td>\n",
       "      <td>0</td>\n",
       "      <td>northwest</td>\n",
       "      <td>21984.47061</td>\n",
       "    </tr>\n",
       "    <tr>\n",
       "      <th>4</th>\n",
       "      <td>32</td>\n",
       "      <td>0</td>\n",
       "      <td>28.880</td>\n",
       "      <td>0</td>\n",
       "      <td>0</td>\n",
       "      <td>northwest</td>\n",
       "      <td>3866.85520</td>\n",
       "    </tr>\n",
       "  </tbody>\n",
       "</table>\n",
       "</div>"
      ],
      "text/plain": [
       "   age  sex     bmi  children  smoker     region      charges\n",
       "0   19    1  27.900         0       1  southwest  16884.92400\n",
       "1   18    0  33.770         1       0  southeast   1725.55230\n",
       "2   28    0  33.000         3       0  southeast   4449.46200\n",
       "3   33    0  22.705         0       0  northwest  21984.47061\n",
       "4   32    0  28.880         0       0  northwest   3866.85520"
      ]
     },
     "execution_count": 57,
     "metadata": {},
     "output_type": "execute_result"
    }
   ],
   "source": [
    "df.head()"
   ]
  },
  {
   "cell_type": "markdown",
   "id": "928834e0-442b-4102-bbab-21c3333dd4f7",
   "metadata": {},
   "source": [
    "2.) Using Label Encoder"
   ]
  },
  {
   "cell_type": "code",
   "execution_count": 106,
   "id": "d74bb941-b1a8-4f87-ba4e-1047a5b202bd",
   "metadata": {},
   "outputs": [],
   "source": [
    "from sklearn.preprocessing import LabelEncoder"
   ]
  },
  {
   "cell_type": "code",
   "execution_count": 107,
   "id": "656d045c-a3fd-468f-917e-206a0cbd72d0",
   "metadata": {},
   "outputs": [],
   "source": [
    "df[\"region\"] = LabelEncoder().fit_transform(df[\"region\"])"
   ]
  },
  {
   "cell_type": "code",
   "execution_count": 60,
   "id": "868a27d3-f879-4886-8611-1b99ae9a07f5",
   "metadata": {},
   "outputs": [
    {
     "data": {
      "text/html": [
       "<div>\n",
       "<style scoped>\n",
       "    .dataframe tbody tr th:only-of-type {\n",
       "        vertical-align: middle;\n",
       "    }\n",
       "\n",
       "    .dataframe tbody tr th {\n",
       "        vertical-align: top;\n",
       "    }\n",
       "\n",
       "    .dataframe thead th {\n",
       "        text-align: right;\n",
       "    }\n",
       "</style>\n",
       "<table border=\"1\" class=\"dataframe\">\n",
       "  <thead>\n",
       "    <tr style=\"text-align: right;\">\n",
       "      <th></th>\n",
       "      <th>age</th>\n",
       "      <th>sex</th>\n",
       "      <th>bmi</th>\n",
       "      <th>children</th>\n",
       "      <th>smoker</th>\n",
       "      <th>region</th>\n",
       "      <th>charges</th>\n",
       "    </tr>\n",
       "  </thead>\n",
       "  <tbody>\n",
       "    <tr>\n",
       "      <th>0</th>\n",
       "      <td>19</td>\n",
       "      <td>1</td>\n",
       "      <td>27.900</td>\n",
       "      <td>0</td>\n",
       "      <td>1</td>\n",
       "      <td>3</td>\n",
       "      <td>16884.92400</td>\n",
       "    </tr>\n",
       "    <tr>\n",
       "      <th>1</th>\n",
       "      <td>18</td>\n",
       "      <td>0</td>\n",
       "      <td>33.770</td>\n",
       "      <td>1</td>\n",
       "      <td>0</td>\n",
       "      <td>2</td>\n",
       "      <td>1725.55230</td>\n",
       "    </tr>\n",
       "    <tr>\n",
       "      <th>2</th>\n",
       "      <td>28</td>\n",
       "      <td>0</td>\n",
       "      <td>33.000</td>\n",
       "      <td>3</td>\n",
       "      <td>0</td>\n",
       "      <td>2</td>\n",
       "      <td>4449.46200</td>\n",
       "    </tr>\n",
       "    <tr>\n",
       "      <th>3</th>\n",
       "      <td>33</td>\n",
       "      <td>0</td>\n",
       "      <td>22.705</td>\n",
       "      <td>0</td>\n",
       "      <td>0</td>\n",
       "      <td>1</td>\n",
       "      <td>21984.47061</td>\n",
       "    </tr>\n",
       "    <tr>\n",
       "      <th>4</th>\n",
       "      <td>32</td>\n",
       "      <td>0</td>\n",
       "      <td>28.880</td>\n",
       "      <td>0</td>\n",
       "      <td>0</td>\n",
       "      <td>1</td>\n",
       "      <td>3866.85520</td>\n",
       "    </tr>\n",
       "    <tr>\n",
       "      <th>5</th>\n",
       "      <td>31</td>\n",
       "      <td>1</td>\n",
       "      <td>25.740</td>\n",
       "      <td>0</td>\n",
       "      <td>0</td>\n",
       "      <td>2</td>\n",
       "      <td>3756.62160</td>\n",
       "    </tr>\n",
       "    <tr>\n",
       "      <th>6</th>\n",
       "      <td>46</td>\n",
       "      <td>1</td>\n",
       "      <td>33.440</td>\n",
       "      <td>1</td>\n",
       "      <td>0</td>\n",
       "      <td>2</td>\n",
       "      <td>8240.58960</td>\n",
       "    </tr>\n",
       "    <tr>\n",
       "      <th>7</th>\n",
       "      <td>37</td>\n",
       "      <td>1</td>\n",
       "      <td>27.740</td>\n",
       "      <td>3</td>\n",
       "      <td>0</td>\n",
       "      <td>1</td>\n",
       "      <td>7281.50560</td>\n",
       "    </tr>\n",
       "    <tr>\n",
       "      <th>8</th>\n",
       "      <td>37</td>\n",
       "      <td>0</td>\n",
       "      <td>29.830</td>\n",
       "      <td>2</td>\n",
       "      <td>0</td>\n",
       "      <td>0</td>\n",
       "      <td>6406.41070</td>\n",
       "    </tr>\n",
       "    <tr>\n",
       "      <th>9</th>\n",
       "      <td>60</td>\n",
       "      <td>1</td>\n",
       "      <td>25.840</td>\n",
       "      <td>0</td>\n",
       "      <td>0</td>\n",
       "      <td>1</td>\n",
       "      <td>28923.13692</td>\n",
       "    </tr>\n",
       "  </tbody>\n",
       "</table>\n",
       "</div>"
      ],
      "text/plain": [
       "   age  sex     bmi  children  smoker  region      charges\n",
       "0   19    1  27.900         0       1       3  16884.92400\n",
       "1   18    0  33.770         1       0       2   1725.55230\n",
       "2   28    0  33.000         3       0       2   4449.46200\n",
       "3   33    0  22.705         0       0       1  21984.47061\n",
       "4   32    0  28.880         0       0       1   3866.85520\n",
       "5   31    1  25.740         0       0       2   3756.62160\n",
       "6   46    1  33.440         1       0       2   8240.58960\n",
       "7   37    1  27.740         3       0       1   7281.50560\n",
       "8   37    0  29.830         2       0       0   6406.41070\n",
       "9   60    1  25.840         0       0       1  28923.13692"
      ]
     },
     "execution_count": 60,
     "metadata": {},
     "output_type": "execute_result"
    }
   ],
   "source": [
    "df.head(10)"
   ]
  },
  {
   "cell_type": "markdown",
   "id": "7691f32e-6a58-49a4-8797-49c63fcb3a59",
   "metadata": {},
   "source": [
    "Normalization"
   ]
  },
  {
   "cell_type": "code",
   "execution_count": 108,
   "id": "97a7257e-5dd5-4951-85f1-0ebcfe077c22",
   "metadata": {},
   "outputs": [],
   "source": [
    "from sklearn.preprocessing import MinMaxScaler"
   ]
  },
  {
   "cell_type": "code",
   "execution_count": 109,
   "id": "d4a02dd1-5283-44c0-b61e-668a3fa2895e",
   "metadata": {},
   "outputs": [],
   "source": [
    "df2 = df.copy()"
   ]
  },
  {
   "cell_type": "code",
   "execution_count": 110,
   "id": "4f06bd6c-0280-4e26-87db-0da5f88954b1",
   "metadata": {},
   "outputs": [
    {
     "data": {
      "text/html": [
       "<div>\n",
       "<style scoped>\n",
       "    .dataframe tbody tr th:only-of-type {\n",
       "        vertical-align: middle;\n",
       "    }\n",
       "\n",
       "    .dataframe tbody tr th {\n",
       "        vertical-align: top;\n",
       "    }\n",
       "\n",
       "    .dataframe thead th {\n",
       "        text-align: right;\n",
       "    }\n",
       "</style>\n",
       "<table border=\"1\" class=\"dataframe\">\n",
       "  <thead>\n",
       "    <tr style=\"text-align: right;\">\n",
       "      <th></th>\n",
       "      <th>age</th>\n",
       "      <th>sex</th>\n",
       "      <th>bmi</th>\n",
       "      <th>children</th>\n",
       "      <th>smoker</th>\n",
       "      <th>region</th>\n",
       "      <th>charges</th>\n",
       "    </tr>\n",
       "  </thead>\n",
       "  <tbody>\n",
       "    <tr>\n",
       "      <th>0</th>\n",
       "      <td>19</td>\n",
       "      <td>1</td>\n",
       "      <td>27.900</td>\n",
       "      <td>0</td>\n",
       "      <td>1</td>\n",
       "      <td>3</td>\n",
       "      <td>16884.92400</td>\n",
       "    </tr>\n",
       "    <tr>\n",
       "      <th>1</th>\n",
       "      <td>18</td>\n",
       "      <td>0</td>\n",
       "      <td>33.770</td>\n",
       "      <td>1</td>\n",
       "      <td>0</td>\n",
       "      <td>2</td>\n",
       "      <td>1725.55230</td>\n",
       "    </tr>\n",
       "    <tr>\n",
       "      <th>2</th>\n",
       "      <td>28</td>\n",
       "      <td>0</td>\n",
       "      <td>33.000</td>\n",
       "      <td>3</td>\n",
       "      <td>0</td>\n",
       "      <td>2</td>\n",
       "      <td>4449.46200</td>\n",
       "    </tr>\n",
       "    <tr>\n",
       "      <th>3</th>\n",
       "      <td>33</td>\n",
       "      <td>0</td>\n",
       "      <td>22.705</td>\n",
       "      <td>0</td>\n",
       "      <td>0</td>\n",
       "      <td>1</td>\n",
       "      <td>21984.47061</td>\n",
       "    </tr>\n",
       "    <tr>\n",
       "      <th>4</th>\n",
       "      <td>32</td>\n",
       "      <td>0</td>\n",
       "      <td>28.880</td>\n",
       "      <td>0</td>\n",
       "      <td>0</td>\n",
       "      <td>1</td>\n",
       "      <td>3866.85520</td>\n",
       "    </tr>\n",
       "  </tbody>\n",
       "</table>\n",
       "</div>"
      ],
      "text/plain": [
       "   age  sex     bmi  children  smoker  region      charges\n",
       "0   19    1  27.900         0       1       3  16884.92400\n",
       "1   18    0  33.770         1       0       2   1725.55230\n",
       "2   28    0  33.000         3       0       2   4449.46200\n",
       "3   33    0  22.705         0       0       1  21984.47061\n",
       "4   32    0  28.880         0       0       1   3866.85520"
      ]
     },
     "execution_count": 110,
     "metadata": {},
     "output_type": "execute_result"
    }
   ],
   "source": [
    "df2.head()"
   ]
  },
  {
   "cell_type": "code",
   "execution_count": 111,
   "id": "573ac56c-c2ef-4df7-94f0-2e9f620d143c",
   "metadata": {},
   "outputs": [],
   "source": [
    "df2[\"age\"] = MinMaxScaler().fit_transform(df2[[\"age\"]])"
   ]
  },
  {
   "cell_type": "code",
   "execution_count": 65,
   "id": "8e672ea8-7677-4538-a201-ab4bf1d2eaf8",
   "metadata": {},
   "outputs": [
    {
     "data": {
      "text/html": [
       "<div>\n",
       "<style scoped>\n",
       "    .dataframe tbody tr th:only-of-type {\n",
       "        vertical-align: middle;\n",
       "    }\n",
       "\n",
       "    .dataframe tbody tr th {\n",
       "        vertical-align: top;\n",
       "    }\n",
       "\n",
       "    .dataframe thead th {\n",
       "        text-align: right;\n",
       "    }\n",
       "</style>\n",
       "<table border=\"1\" class=\"dataframe\">\n",
       "  <thead>\n",
       "    <tr style=\"text-align: right;\">\n",
       "      <th></th>\n",
       "      <th>age</th>\n",
       "      <th>sex</th>\n",
       "      <th>bmi</th>\n",
       "      <th>children</th>\n",
       "      <th>smoker</th>\n",
       "      <th>region</th>\n",
       "      <th>charges</th>\n",
       "    </tr>\n",
       "  </thead>\n",
       "  <tbody>\n",
       "    <tr>\n",
       "      <th>0</th>\n",
       "      <td>0.021739</td>\n",
       "      <td>1</td>\n",
       "      <td>27.900</td>\n",
       "      <td>0</td>\n",
       "      <td>1</td>\n",
       "      <td>3</td>\n",
       "      <td>16884.92400</td>\n",
       "    </tr>\n",
       "    <tr>\n",
       "      <th>1</th>\n",
       "      <td>0.000000</td>\n",
       "      <td>0</td>\n",
       "      <td>33.770</td>\n",
       "      <td>1</td>\n",
       "      <td>0</td>\n",
       "      <td>2</td>\n",
       "      <td>1725.55230</td>\n",
       "    </tr>\n",
       "    <tr>\n",
       "      <th>2</th>\n",
       "      <td>0.217391</td>\n",
       "      <td>0</td>\n",
       "      <td>33.000</td>\n",
       "      <td>3</td>\n",
       "      <td>0</td>\n",
       "      <td>2</td>\n",
       "      <td>4449.46200</td>\n",
       "    </tr>\n",
       "    <tr>\n",
       "      <th>3</th>\n",
       "      <td>0.326087</td>\n",
       "      <td>0</td>\n",
       "      <td>22.705</td>\n",
       "      <td>0</td>\n",
       "      <td>0</td>\n",
       "      <td>1</td>\n",
       "      <td>21984.47061</td>\n",
       "    </tr>\n",
       "    <tr>\n",
       "      <th>4</th>\n",
       "      <td>0.304348</td>\n",
       "      <td>0</td>\n",
       "      <td>28.880</td>\n",
       "      <td>0</td>\n",
       "      <td>0</td>\n",
       "      <td>1</td>\n",
       "      <td>3866.85520</td>\n",
       "    </tr>\n",
       "  </tbody>\n",
       "</table>\n",
       "</div>"
      ],
      "text/plain": [
       "        age  sex     bmi  children  smoker  region      charges\n",
       "0  0.021739    1  27.900         0       1       3  16884.92400\n",
       "1  0.000000    0  33.770         1       0       2   1725.55230\n",
       "2  0.217391    0  33.000         3       0       2   4449.46200\n",
       "3  0.326087    0  22.705         0       0       1  21984.47061\n",
       "4  0.304348    0  28.880         0       0       1   3866.85520"
      ]
     },
     "execution_count": 65,
     "metadata": {},
     "output_type": "execute_result"
    }
   ],
   "source": [
    "df2.head()"
   ]
  },
  {
   "cell_type": "code",
   "execution_count": 112,
   "id": "8ea9e97f-a3d0-4aee-b98d-eedd6c1f7d64",
   "metadata": {},
   "outputs": [],
   "source": [
    "df2[\"bmi\"] = MinMaxScaler().fit_transform(df2[[\"bmi\"]])"
   ]
  },
  {
   "cell_type": "code",
   "execution_count": 67,
   "id": "4cddba3a-d6ed-44c8-8597-89040d9708dd",
   "metadata": {},
   "outputs": [
    {
     "data": {
      "text/html": [
       "<div>\n",
       "<style scoped>\n",
       "    .dataframe tbody tr th:only-of-type {\n",
       "        vertical-align: middle;\n",
       "    }\n",
       "\n",
       "    .dataframe tbody tr th {\n",
       "        vertical-align: top;\n",
       "    }\n",
       "\n",
       "    .dataframe thead th {\n",
       "        text-align: right;\n",
       "    }\n",
       "</style>\n",
       "<table border=\"1\" class=\"dataframe\">\n",
       "  <thead>\n",
       "    <tr style=\"text-align: right;\">\n",
       "      <th></th>\n",
       "      <th>age</th>\n",
       "      <th>sex</th>\n",
       "      <th>bmi</th>\n",
       "      <th>children</th>\n",
       "      <th>smoker</th>\n",
       "      <th>region</th>\n",
       "      <th>charges</th>\n",
       "    </tr>\n",
       "  </thead>\n",
       "  <tbody>\n",
       "    <tr>\n",
       "      <th>0</th>\n",
       "      <td>0.021739</td>\n",
       "      <td>1</td>\n",
       "      <td>0.321227</td>\n",
       "      <td>0</td>\n",
       "      <td>1</td>\n",
       "      <td>3</td>\n",
       "      <td>16884.92400</td>\n",
       "    </tr>\n",
       "    <tr>\n",
       "      <th>1</th>\n",
       "      <td>0.000000</td>\n",
       "      <td>0</td>\n",
       "      <td>0.479150</td>\n",
       "      <td>1</td>\n",
       "      <td>0</td>\n",
       "      <td>2</td>\n",
       "      <td>1725.55230</td>\n",
       "    </tr>\n",
       "    <tr>\n",
       "      <th>2</th>\n",
       "      <td>0.217391</td>\n",
       "      <td>0</td>\n",
       "      <td>0.458434</td>\n",
       "      <td>3</td>\n",
       "      <td>0</td>\n",
       "      <td>2</td>\n",
       "      <td>4449.46200</td>\n",
       "    </tr>\n",
       "    <tr>\n",
       "      <th>3</th>\n",
       "      <td>0.326087</td>\n",
       "      <td>0</td>\n",
       "      <td>0.181464</td>\n",
       "      <td>0</td>\n",
       "      <td>0</td>\n",
       "      <td>1</td>\n",
       "      <td>21984.47061</td>\n",
       "    </tr>\n",
       "    <tr>\n",
       "      <th>4</th>\n",
       "      <td>0.304348</td>\n",
       "      <td>0</td>\n",
       "      <td>0.347592</td>\n",
       "      <td>0</td>\n",
       "      <td>0</td>\n",
       "      <td>1</td>\n",
       "      <td>3866.85520</td>\n",
       "    </tr>\n",
       "  </tbody>\n",
       "</table>\n",
       "</div>"
      ],
      "text/plain": [
       "        age  sex       bmi  children  smoker  region      charges\n",
       "0  0.021739    1  0.321227         0       1       3  16884.92400\n",
       "1  0.000000    0  0.479150         1       0       2   1725.55230\n",
       "2  0.217391    0  0.458434         3       0       2   4449.46200\n",
       "3  0.326087    0  0.181464         0       0       1  21984.47061\n",
       "4  0.304348    0  0.347592         0       0       1   3866.85520"
      ]
     },
     "execution_count": 67,
     "metadata": {},
     "output_type": "execute_result"
    }
   ],
   "source": [
    "df2.head()"
   ]
  },
  {
   "cell_type": "code",
   "execution_count": 113,
   "id": "4108c79a-faea-400b-90ab-7d10b1664c29",
   "metadata": {},
   "outputs": [
    {
     "name": "stdout",
     "output_type": "stream",
     "text": [
      "<class 'pandas.core.frame.DataFrame'>\n",
      "RangeIndex: 1338 entries, 0 to 1337\n",
      "Data columns (total 7 columns):\n",
      " #   Column    Non-Null Count  Dtype  \n",
      "---  ------    --------------  -----  \n",
      " 0   age       1338 non-null   float64\n",
      " 1   sex       1338 non-null   int64  \n",
      " 2   bmi       1338 non-null   float64\n",
      " 3   children  1338 non-null   int64  \n",
      " 4   smoker    1338 non-null   int64  \n",
      " 5   region    1338 non-null   int32  \n",
      " 6   charges   1338 non-null   float64\n",
      "dtypes: float64(3), int32(1), int64(3)\n",
      "memory usage: 68.1 KB\n"
     ]
    }
   ],
   "source": [
    "df2.info()"
   ]
  },
  {
   "cell_type": "code",
   "execution_count": 114,
   "id": "10f54631-6b82-48e3-bc19-a48c60b668b7",
   "metadata": {},
   "outputs": [],
   "source": [
    "# Separate features and target \n",
    "features = [\"age\", \"sex\", \"bmi\", \"smoker\", \"region\"]\n",
    "X = df2[features].values\n",
    "Y = df2[\"charges\"].values"
   ]
  },
  {
   "cell_type": "code",
   "execution_count": 115,
   "id": "7b237de0-61df-4827-9052-dc423c6bb014",
   "metadata": {},
   "outputs": [
    {
     "data": {
      "text/html": [
       "<div>\n",
       "<style scoped>\n",
       "    .dataframe tbody tr th:only-of-type {\n",
       "        vertical-align: middle;\n",
       "    }\n",
       "\n",
       "    .dataframe tbody tr th {\n",
       "        vertical-align: top;\n",
       "    }\n",
       "\n",
       "    .dataframe thead th {\n",
       "        text-align: right;\n",
       "    }\n",
       "</style>\n",
       "<table border=\"1\" class=\"dataframe\">\n",
       "  <thead>\n",
       "    <tr style=\"text-align: right;\">\n",
       "      <th></th>\n",
       "      <th>age</th>\n",
       "      <th>sex</th>\n",
       "      <th>bmi</th>\n",
       "      <th>smoker</th>\n",
       "      <th>region</th>\n",
       "    </tr>\n",
       "  </thead>\n",
       "  <tbody>\n",
       "    <tr>\n",
       "      <th>0</th>\n",
       "      <td>0.021739</td>\n",
       "      <td>1</td>\n",
       "      <td>0.321227</td>\n",
       "      <td>1</td>\n",
       "      <td>3</td>\n",
       "    </tr>\n",
       "    <tr>\n",
       "      <th>1</th>\n",
       "      <td>0.000000</td>\n",
       "      <td>0</td>\n",
       "      <td>0.479150</td>\n",
       "      <td>0</td>\n",
       "      <td>2</td>\n",
       "    </tr>\n",
       "    <tr>\n",
       "      <th>2</th>\n",
       "      <td>0.217391</td>\n",
       "      <td>0</td>\n",
       "      <td>0.458434</td>\n",
       "      <td>0</td>\n",
       "      <td>2</td>\n",
       "    </tr>\n",
       "    <tr>\n",
       "      <th>3</th>\n",
       "      <td>0.326087</td>\n",
       "      <td>0</td>\n",
       "      <td>0.181464</td>\n",
       "      <td>0</td>\n",
       "      <td>1</td>\n",
       "    </tr>\n",
       "    <tr>\n",
       "      <th>4</th>\n",
       "      <td>0.304348</td>\n",
       "      <td>0</td>\n",
       "      <td>0.347592</td>\n",
       "      <td>0</td>\n",
       "      <td>1</td>\n",
       "    </tr>\n",
       "    <tr>\n",
       "      <th>...</th>\n",
       "      <td>...</td>\n",
       "      <td>...</td>\n",
       "      <td>...</td>\n",
       "      <td>...</td>\n",
       "      <td>...</td>\n",
       "    </tr>\n",
       "    <tr>\n",
       "      <th>1333</th>\n",
       "      <td>0.695652</td>\n",
       "      <td>0</td>\n",
       "      <td>0.403820</td>\n",
       "      <td>0</td>\n",
       "      <td>1</td>\n",
       "    </tr>\n",
       "    <tr>\n",
       "      <th>1334</th>\n",
       "      <td>0.000000</td>\n",
       "      <td>1</td>\n",
       "      <td>0.429379</td>\n",
       "      <td>0</td>\n",
       "      <td>0</td>\n",
       "    </tr>\n",
       "    <tr>\n",
       "      <th>1335</th>\n",
       "      <td>0.000000</td>\n",
       "      <td>1</td>\n",
       "      <td>0.562012</td>\n",
       "      <td>0</td>\n",
       "      <td>2</td>\n",
       "    </tr>\n",
       "    <tr>\n",
       "      <th>1336</th>\n",
       "      <td>0.065217</td>\n",
       "      <td>1</td>\n",
       "      <td>0.264730</td>\n",
       "      <td>0</td>\n",
       "      <td>3</td>\n",
       "    </tr>\n",
       "    <tr>\n",
       "      <th>1337</th>\n",
       "      <td>0.934783</td>\n",
       "      <td>1</td>\n",
       "      <td>0.352704</td>\n",
       "      <td>1</td>\n",
       "      <td>1</td>\n",
       "    </tr>\n",
       "  </tbody>\n",
       "</table>\n",
       "<p>1338 rows × 5 columns</p>\n",
       "</div>"
      ],
      "text/plain": [
       "           age  sex       bmi  smoker  region\n",
       "0     0.021739    1  0.321227       1       3\n",
       "1     0.000000    0  0.479150       0       2\n",
       "2     0.217391    0  0.458434       0       2\n",
       "3     0.326087    0  0.181464       0       1\n",
       "4     0.304348    0  0.347592       0       1\n",
       "...        ...  ...       ...     ...     ...\n",
       "1333  0.695652    0  0.403820       0       1\n",
       "1334  0.000000    1  0.429379       0       0\n",
       "1335  0.000000    1  0.562012       0       2\n",
       "1336  0.065217    1  0.264730       0       3\n",
       "1337  0.934783    1  0.352704       1       1\n",
       "\n",
       "[1338 rows x 5 columns]"
      ]
     },
     "execution_count": 115,
     "metadata": {},
     "output_type": "execute_result"
    }
   ],
   "source": [
    "df2[features]"
   ]
  },
  {
   "cell_type": "code",
   "execution_count": 116,
   "id": "e0047a85-e6fd-43a7-aae1-27fc1ef97ac0",
   "metadata": {},
   "outputs": [
    {
     "data": {
      "text/plain": [
       "array([[0.02173913, 1.        , 0.3212268 , 1.        , 3.        ],\n",
       "       [0.        , 0.        , 0.47914985, 0.        , 2.        ],\n",
       "       [0.2173913 , 0.        , 0.45843422, 0.        , 2.        ],\n",
       "       ...,\n",
       "       [0.        , 1.        , 0.56201238, 0.        , 2.        ],\n",
       "       [0.06521739, 1.        , 0.26472962, 0.        , 3.        ],\n",
       "       [0.93478261, 1.        , 0.35270379, 1.        , 1.        ]])"
      ]
     },
     "execution_count": 116,
     "metadata": {},
     "output_type": "execute_result"
    }
   ],
   "source": [
    "# Get the values in the numpy array\n",
    "df2[features].values"
   ]
  },
  {
   "cell_type": "code",
   "execution_count": 117,
   "id": "7ff29bc8-2fff-42ce-ad24-2d89601f4f63",
   "metadata": {},
   "outputs": [
    {
     "name": "stdout",
     "output_type": "stream",
     "text": [
      "Features:\n",
      "[[0.02173913 1.         0.3212268  1.         3.        ]\n",
      " [0.         0.         0.47914985 0.         2.        ]\n",
      " [0.2173913  0.         0.45843422 0.         2.        ]\n",
      " [0.32608696 0.         0.18146355 0.         1.        ]\n",
      " [0.30434783 0.         0.34759214 0.         1.        ]\n",
      " [0.2826087  1.         0.26311542 0.         2.        ]\n",
      " [0.60869565 1.         0.47027172 0.         2.        ]\n",
      " [0.41304348 1.         0.31692225 0.         1.        ]\n",
      " [0.41304348 0.         0.37315039 0.         0.        ]\n",
      " [0.91304348 1.         0.26580576 0.         1.        ]]\n",
      "\n",
      "Labels:\n",
      "[16884.924    1725.5523   4449.462   21984.47061  3866.8552   3756.6216\n",
      "  8240.5896   7281.5056   6406.4107  28923.13692]\n"
     ]
    }
   ],
   "source": [
    "# Printing the features and labels\n",
    "print(\"Features:\", X[:10], '\\nLabels:', Y[:10], sep='\\n')"
   ]
  },
  {
   "cell_type": "code",
   "execution_count": 118,
   "id": "e8f84cae-69f6-4e9f-8014-ad6f9402b097",
   "metadata": {},
   "outputs": [],
   "source": [
    "from sklearn.model_selection import train_test_split"
   ]
  },
  {
   "cell_type": "code",
   "execution_count": 79,
   "id": "ba186290-2bf3-45c4-84d8-b809ed2728fb",
   "metadata": {},
   "outputs": [],
   "source": [
    "# Spilt data 70%-30% into training and test set\n",
    "X_train, X_test, Y_train, Y_test = train_test_split(X, Y, test_size=0.30)\n",
    "\n",
    "# '''\n",
    "# X_train: training data feature\n",
    "# X_test: testing data feature\n",
    "# Y_train: training data target\n",
    "# Y_test: testing data target\n",
    "# '''"
   ]
  },
  {
   "cell_type": "code",
   "execution_count": 119,
   "id": "fe59a635-e424-4581-8879-691cdcf197d0",
   "metadata": {},
   "outputs": [
    {
     "data": {
      "text/plain": [
       "array([9.71709242e-02, 1.90268511e-01, 8.35517575e-02, 8.13736897e-03,\n",
       "       9.70465645e-02, 7.98605183e-03, 1.15127695e-01, 7.59022863e-01,\n",
       "       5.90666028e-01, 2.34580223e-01, 1.64922363e-01, 9.74697954e-02,\n",
       "       4.97700034e-02, 1.62248993e-01, 8.10006579e-02, 1.11644954e-01,\n",
       "       2.14570156e-03, 1.19465542e-01, 6.19473004e-02, 1.80837821e-02,\n",
       "       9.67158953e-03, 1.73319810e-02, 3.44460408e-02, 3.94629531e-02,\n",
       "       8.84995540e-02, 4.37254425e-02, 3.28011082e-02, 1.28845186e-01,\n",
       "       1.61720366e-01, 1.39728787e-01, 4.55086449e-02, 3.86464768e-01,\n",
       "       6.80485987e-01, 1.10877437e-01, 8.73385584e-02, 1.62016245e-02,\n",
       "       5.83848814e-02, 1.59041386e-01, 1.15029806e-02, 8.69796682e-02,\n",
       "       8.62167195e-01, 9.37055704e-03, 1.60286127e-01, 6.18527130e-01,\n",
       "       8.16686701e-02, 7.25910361e-01, 1.65854284e-01, 1.81543167e-01,\n",
       "       1.65379091e-01, 9.93352550e-02, 1.11651517e-01, 1.71125256e-01,\n",
       "       1.46904142e-01, 1.82800310e-01, 4.51014272e-02, 1.96800202e-01,\n",
       "       1.98458387e-01, 1.30614794e-01, 6.01316815e-02, 9.59643632e-02,\n",
       "       5.80421622e-01, 8.54311672e-02, 6.21019456e-02, 4.71292569e-02,\n",
       "       2.48941100e-04, 7.17254399e-02, 6.54290626e-01, 7.30737312e-02,\n",
       "       9.45727860e-02, 3.97408639e-01, 1.39635087e-01, 1.14618156e-01,\n",
       "       5.99999898e-01, 1.63465562e-01, 1.65469789e-01, 3.03717289e-01,\n",
       "       1.59169659e-01, 2.56313148e-01, 9.53832708e-03, 3.82449272e-01,\n",
       "       1.57026068e-01, 1.22004014e-01, 1.69854311e-01, 1.29301128e-01,\n",
       "       5.43119551e-01, 1.62558590e-01, 1.43424646e-01, 3.37846871e-02,\n",
       "       1.69539828e-01, 3.08047504e-01, 1.14218903e-01, 6.58302998e-02,\n",
       "       2.17381250e-02, 5.71072384e-01, 6.36124673e-01, 3.38550398e-01,\n",
       "       4.42895936e-01, 3.61305266e-02, 1.16388786e-01, 1.75632441e-01,\n",
       "       2.47984072e-01, 1.86362413e-01, 8.88218009e-02, 7.30541797e-01,\n",
       "       1.88692032e-02, 1.64010590e-01, 7.19662890e-02, 1.72687473e-02,\n",
       "       1.00066172e-02, 3.12093651e-02, 1.14268380e-01, 1.11128597e-01,\n",
       "       1.68173793e-01, 1.28058679e-01, 9.27614122e-02, 5.93164138e-01,\n",
       "       5.59882436e-01, 6.83165165e-01, 6.92426584e-01, 5.28585830e-02,\n",
       "       2.03773172e-01, 5.33890614e-02, 2.66116836e-02, 5.69194796e-02,\n",
       "       6.93768317e-01, 1.88914880e-01, 2.23445061e-03, 3.79788053e-01,\n",
       "       7.32178606e-02, 1.57395929e-01, 3.30017616e-01, 5.86411443e-02,\n",
       "       1.72537922e-01, 5.74293007e-02, 4.57786639e-02, 8.48183949e-02,\n",
       "       1.66212914e-01, 1.77334335e-01, 1.12527593e-02, 1.36034721e-01,\n",
       "       5.94150857e-01, 1.89301604e-01, 1.05473653e-01, 6.57459882e-02,\n",
       "       3.79066416e-01, 3.27829692e-01, 1.32374102e-01, 2.44197506e-01,\n",
       "       7.96723439e-02, 8.66940519e-03, 1.38343049e-01, 1.44215767e-01,\n",
       "       1.42403528e-01, 3.09765226e-02, 2.93979157e-01, 7.97403974e-02,\n",
       "       1.18038719e-01, 3.56208764e-02, 9.66767883e-03, 4.16554918e-01,\n",
       "       7.61431397e-01, 1.78807991e-01, 8.28731832e-02, 3.06844975e-02,\n",
       "       3.20866175e-01, 1.33534930e-01, 1.25219865e-02, 7.65896399e-02,\n",
       "       9.50591053e-02, 5.31151620e-02, 3.96991559e-01, 3.63388894e-01,\n",
       "       1.38175149e-01, 8.26338624e-03, 9.93840670e-02, 1.06663062e-01,\n",
       "       1.28658933e-01, 1.58843284e-01, 4.58478881e-02, 6.00564239e-01,\n",
       "       4.03367432e-01, 6.13495733e-01, 3.33114328e-02, 4.10473017e-02,\n",
       "       4.00882453e-01, 6.63842934e-04, 1.47459325e-02, 4.49061601e-02,\n",
       "       1.25205154e-01, 1.13365761e-02, 1.10158353e-01, 2.07470807e-01,\n",
       "       3.32747895e-02, 1.56785662e-02, 2.88145644e-02, 1.93252234e-01,\n",
       "       2.92463125e-01, 2.03661126e-01, 5.29641805e-01, 6.04089879e-02,\n",
       "       1.49597577e-01, 3.22861914e-01, 1.96224229e-01, 6.61778122e-02,\n",
       "       7.22736728e-02, 7.37182713e-01, 3.92340228e-02, 1.72761510e-01,\n",
       "       9.95442247e-02, 1.10790906e-01, 5.23213528e-02, 1.68435748e-01,\n",
       "       3.73372023e-01, 2.11281659e-01, 6.02229286e-02, 5.77000983e-01,\n",
       "       1.26969331e-02, 2.06721626e-02, 7.91802967e-02, 1.83926274e-01,\n",
       "       2.82277410e-01, 8.43520952e-02, 7.40234491e-01, 1.34738227e-01,\n",
       "       2.59222139e-01, 2.72891972e-01, 1.63965343e-01, 1.31518644e-01,\n",
       "       3.94200015e-02, 1.48657722e-01, 8.80893586e-02, 4.34460385e-01,\n",
       "       5.38029657e-01, 9.14171473e-02, 5.48985471e-02, 6.71288653e-02,\n",
       "       2.15720892e-02, 4.86812946e-01, 1.68180117e-01, 2.79759813e-01,\n",
       "       8.95029595e-03, 1.53475160e-01, 6.39015833e-02, 1.93084281e-02,\n",
       "       1.22959136e-01, 5.39272677e-02, 3.95176255e-02, 7.75175432e-03,\n",
       "       6.27263402e-01, 1.14083560e-01, 1.58896716e-02, 4.83515517e-02,\n",
       "       6.82769188e-01, 1.44870036e-01, 4.12217111e-02, 1.71753297e-01,\n",
       "       3.33010027e-01, 1.91895745e-01, 1.39400783e-01, 2.53355887e-02,\n",
       "       9.46353541e-02, 6.05470630e-02, 3.31910493e-02, 1.09063061e-01,\n",
       "       1.50924682e-01, 1.48674175e-01, 1.13629369e-01, 1.35652880e-01,\n",
       "       1.99294222e-01, 1.60082004e-01, 1.80516208e-01, 2.14989130e-01,\n",
       "       3.73732882e-01, 6.92142478e-02, 8.13980957e-03, 7.74240391e-02,\n",
       "       9.03369660e-02, 5.15357544e-02, 3.12651213e-01, 3.62575399e-02,\n",
       "       9.90154424e-02, 5.13749606e-02, 8.10808178e-03, 2.73547288e-01,\n",
       "       2.02732996e-01, 2.31295353e-01, 1.91664104e-02, 5.42223583e-02,\n",
       "       5.59112817e-01, 1.19610519e-01, 9.65941854e-02, 2.05579523e-01,\n",
       "       1.25725735e-02, 1.46014321e-01, 1.35071264e-01, 1.85305565e-01,\n",
       "       4.39823455e-02, 8.69879629e-02, 2.93600833e-01, 3.01487561e-01,\n",
       "       9.45532612e-02, 5.46279311e-02, 3.99346589e-01, 1.90619070e-01,\n",
       "       4.60273767e-02, 5.16399747e-02, 4.88953663e-02, 1.81294448e-01,\n",
       "       8.41476651e-02, 2.16941192e-02, 2.53376965e-02, 3.12396675e-04,\n",
       "       3.74807923e-01, 1.77218407e-01, 9.63595104e-03, 3.75835411e-01,\n",
       "       1.00944773e-01, 4.16729681e-02, 3.27180895e-02, 5.75325168e-01,\n",
       "       5.39962741e-02, 1.83906940e-01, 1.57296078e-01, 1.77875342e-01,\n",
       "       6.60764739e-02, 7.52554718e-02, 1.11796844e-01, 5.64963150e-02,\n",
       "       1.64246586e-01, 4.43765437e-01, 1.90354887e-01, 7.27810721e-01,\n",
       "       1.64184970e-02, 6.51688946e-01, 2.12834443e-01, 6.22233293e-01,\n",
       "       2.74369750e-01, 1.00000000e+00, 1.63313485e-01, 1.04033423e-01,\n",
       "       1.47633713e-01, 9.79248330e-02, 1.79178885e-01, 5.61639848e-01,\n",
       "       9.97612505e-02, 7.73816598e-02, 2.07684982e-01, 4.20560017e-02,\n",
       "       2.54978885e-02, 7.12296056e-02, 4.64554504e-02, 7.73363978e-02,\n",
       "       1.57123692e-01, 1.56490571e-02, 1.63761984e-01, 3.79123051e-01,\n",
       "       1.09573181e-01, 5.66895494e-02, 2.38844357e-01, 5.63072885e-01,\n",
       "       3.00271640e-01, 7.54214326e-02, 3.58206867e-01, 2.03079421e-01,\n",
       "       7.39698158e-01, 2.86024192e-01, 2.13193763e-02, 4.04561986e-01,\n",
       "       2.85991453e-02, 4.71618722e-02, 5.10552397e-02, 1.72645317e-02,\n",
       "       8.84747003e-02, 1.26517739e-01, 3.89398288e-01, 3.78089364e-02,\n",
       "       7.55648501e-02, 8.11196351e-02, 1.81391688e-01, 1.92860185e-01,\n",
       "       1.39681230e-01, 1.80100010e-01, 1.13502458e-01, 1.24013486e-01,\n",
       "       6.37083299e-01, 1.47389947e-01, 5.38192774e-01, 2.03084069e-01,\n",
       "       1.03379521e-02, 2.67885722e-01, 1.32661504e-01, 1.43548963e-01,\n",
       "       8.57962674e-02, 4.18591754e-01, 5.35531486e-01, 5.68970003e-02,\n",
       "       6.88585341e-01, 3.00771066e-01, 5.05447973e-01, 1.83680084e-01,\n",
       "       2.68485559e-01, 3.62417191e-02])"
      ]
     },
     "execution_count": 119,
     "metadata": {},
     "output_type": "execute_result"
    }
   ],
   "source": [
    "Y_test"
   ]
  },
  {
   "cell_type": "code",
   "execution_count": 120,
   "id": "d07b3c40-1b2b-42fc-8e41-8537ac262021",
   "metadata": {},
   "outputs": [],
   "source": [
    "# Train the model\n",
    "from sklearn.linear_model import LinearRegression "
   ]
  },
  {
   "cell_type": "code",
   "execution_count": 121,
   "id": "069f4f92-6b15-4bee-8671-bedaa56a268d",
   "metadata": {},
   "outputs": [
    {
     "name": "stdout",
     "output_type": "stream",
     "text": [
      "LinearRegression()\n"
     ]
    }
   ],
   "source": [
    "# Fit a linear regression model on the training set\n",
    "\n",
    "model = LinearRegression().fit(X_train, Y_train)\n",
    "print(model)"
   ]
  },
  {
   "cell_type": "markdown",
   "id": "403a3111-725e-4447-84c1-f96029fb4311",
   "metadata": {},
   "source": [
    "Evaluate the train model"
   ]
  },
  {
   "cell_type": "code",
   "execution_count": 122,
   "id": "e0b39ff5-b1ef-4602-9bdb-86ba700d60e0",
   "metadata": {},
   "outputs": [],
   "source": [
    "import numpy as np\n",
    "predictions = model.predict(X_test)"
   ]
  },
  {
   "cell_type": "code",
   "execution_count": 123,
   "id": "1b6fe4e7-0e16-4aa8-996b-eed36f889d9c",
   "metadata": {},
   "outputs": [
    {
     "name": "stdout",
     "output_type": "stream",
     "text": [
      "Predicted labels:  [0. 0. 0. 0. 0. 0. 0. 1. 0. 0.]\n",
      "Actual labels:  [0.09717092 0.19026851 0.08355176 0.00813737 0.09704656 0.00798605\n",
      " 0.1151277  0.75902286 0.59066603 0.23458022]\n"
     ]
    }
   ],
   "source": [
    "# Predicted\n",
    "print(\"Predicted labels: \", np.round(predictions, 0)[:10])\n",
    "print(\"Actual labels: \", Y_test[:10])"
   ]
  },
  {
   "cell_type": "code",
   "execution_count": 124,
   "id": "c7ad8148-e711-4304-b39a-bbd2f00693c2",
   "metadata": {},
   "outputs": [
    {
     "name": "stdout",
     "output_type": "stream",
     "text": [
      "MSE: 0.008904997226378154\n",
      "RMSE: 0.09436629285066864\n",
      "R2: 75.16282039732984\n"
     ]
    }
   ],
   "source": [
    "from sklearn.metrics import mean_squared_error, r2_score\n",
    "\n",
    "mse = mean_squared_error(Y_test, predictions)\n",
    "print(\"MSE:\", mse)\n",
    "\n",
    "rmse = np.sqrt(mse)\n",
    "print(\"RMSE:\", rmse)\n",
    "\n",
    "r2 = r2_score(Y_test, predictions)\n",
    "print(\"R2:\", r2*100)"
   ]
  },
  {
   "cell_type": "markdown",
   "id": "59adc89b-2bfc-4613-8b69-796d2a865865",
   "metadata": {},
   "source": [
    "Used the Trained Model"
   ]
  },
  {
   "cell_type": "code",
   "execution_count": 125,
   "id": "b14d65a7-8761-4f52-b625-17829152428a",
   "metadata": {},
   "outputs": [
    {
     "data": {
      "text/html": [
       "<style>#sk-container-id-2 {color: black;background-color: white;}#sk-container-id-2 pre{padding: 0;}#sk-container-id-2 div.sk-toggleable {background-color: white;}#sk-container-id-2 label.sk-toggleable__label {cursor: pointer;display: block;width: 100%;margin-bottom: 0;padding: 0.3em;box-sizing: border-box;text-align: center;}#sk-container-id-2 label.sk-toggleable__label-arrow:before {content: \"▸\";float: left;margin-right: 0.25em;color: #696969;}#sk-container-id-2 label.sk-toggleable__label-arrow:hover:before {color: black;}#sk-container-id-2 div.sk-estimator:hover label.sk-toggleable__label-arrow:before {color: black;}#sk-container-id-2 div.sk-toggleable__content {max-height: 0;max-width: 0;overflow: hidden;text-align: left;background-color: #f0f8ff;}#sk-container-id-2 div.sk-toggleable__content pre {margin: 0.2em;color: black;border-radius: 0.25em;background-color: #f0f8ff;}#sk-container-id-2 input.sk-toggleable__control:checked~div.sk-toggleable__content {max-height: 200px;max-width: 100%;overflow: auto;}#sk-container-id-2 input.sk-toggleable__control:checked~label.sk-toggleable__label-arrow:before {content: \"▾\";}#sk-container-id-2 div.sk-estimator input.sk-toggleable__control:checked~label.sk-toggleable__label {background-color: #d4ebff;}#sk-container-id-2 div.sk-label input.sk-toggleable__control:checked~label.sk-toggleable__label {background-color: #d4ebff;}#sk-container-id-2 input.sk-hidden--visually {border: 0;clip: rect(1px 1px 1px 1px);clip: rect(1px, 1px, 1px, 1px);height: 1px;margin: -1px;overflow: hidden;padding: 0;position: absolute;width: 1px;}#sk-container-id-2 div.sk-estimator {font-family: monospace;background-color: #f0f8ff;border: 1px dotted black;border-radius: 0.25em;box-sizing: border-box;margin-bottom: 0.5em;}#sk-container-id-2 div.sk-estimator:hover {background-color: #d4ebff;}#sk-container-id-2 div.sk-parallel-item::after {content: \"\";width: 100%;border-bottom: 1px solid gray;flex-grow: 1;}#sk-container-id-2 div.sk-label:hover label.sk-toggleable__label {background-color: #d4ebff;}#sk-container-id-2 div.sk-serial::before {content: \"\";position: absolute;border-left: 1px solid gray;box-sizing: border-box;top: 0;bottom: 0;left: 50%;z-index: 0;}#sk-container-id-2 div.sk-serial {display: flex;flex-direction: column;align-items: center;background-color: white;padding-right: 0.2em;padding-left: 0.2em;position: relative;}#sk-container-id-2 div.sk-item {position: relative;z-index: 1;}#sk-container-id-2 div.sk-parallel {display: flex;align-items: stretch;justify-content: center;background-color: white;position: relative;}#sk-container-id-2 div.sk-item::before, #sk-container-id-2 div.sk-parallel-item::before {content: \"\";position: absolute;border-left: 1px solid gray;box-sizing: border-box;top: 0;bottom: 0;left: 50%;z-index: -1;}#sk-container-id-2 div.sk-parallel-item {display: flex;flex-direction: column;z-index: 1;position: relative;background-color: white;}#sk-container-id-2 div.sk-parallel-item:first-child::after {align-self: flex-end;width: 50%;}#sk-container-id-2 div.sk-parallel-item:last-child::after {align-self: flex-start;width: 50%;}#sk-container-id-2 div.sk-parallel-item:only-child::after {width: 0;}#sk-container-id-2 div.sk-dashed-wrapped {border: 1px dashed gray;margin: 0 0.4em 0.5em 0.4em;box-sizing: border-box;padding-bottom: 0.4em;background-color: white;}#sk-container-id-2 div.sk-label label {font-family: monospace;font-weight: bold;display: inline-block;line-height: 1.2em;}#sk-container-id-2 div.sk-label-container {text-align: center;}#sk-container-id-2 div.sk-container {/* jupyter's `normalize.less` sets `[hidden] { display: none; }` but bootstrap.min.css set `[hidden] { display: none !important; }` so we also need the `!important` here to be able to override the default hidden behavior on the sphinx rendered scikit-learn.org. See: https://github.com/scikit-learn/scikit-learn/issues/21755 */display: inline-block !important;position: relative;}#sk-container-id-2 div.sk-text-repr-fallback {display: none;}</style><div id=\"sk-container-id-2\" class=\"sk-top-container\"><div class=\"sk-text-repr-fallback\"><pre>LinearRegression()</pre><b>In a Jupyter environment, please rerun this cell to show the HTML representation or trust the notebook. <br />On GitHub, the HTML representation is unable to render, please try loading this page with nbviewer.org.</b></div><div class=\"sk-container\" hidden><div class=\"sk-item\"><div class=\"sk-estimator sk-toggleable\"><input class=\"sk-toggleable__control sk-hidden--visually\" id=\"sk-estimator-id-2\" type=\"checkbox\" checked><label for=\"sk-estimator-id-2\" class=\"sk-toggleable__label sk-toggleable__label-arrow\">LinearRegression</label><div class=\"sk-toggleable__content\"><pre>LinearRegression()</pre></div></div></div></div></div>"
      ],
      "text/plain": [
       "LinearRegression()"
      ]
     },
     "execution_count": 125,
     "metadata": {},
     "output_type": "execute_result"
    }
   ],
   "source": [
    "model"
   ]
  },
  {
   "cell_type": "code",
   "execution_count": 126,
   "id": "f92a0936-1dc9-4798-a583-d07dca0750e9",
   "metadata": {},
   "outputs": [
    {
     "data": {
      "text/plain": [
       "'C:\\\\Users\\\\Lenovo\\\\OneDrive\\\\Desktop\\\\Juypter_projects'"
      ]
     },
     "execution_count": 126,
     "metadata": {},
     "output_type": "execute_result"
    }
   ],
   "source": [
    "pwd"
   ]
  },
  {
   "cell_type": "code",
   "execution_count": 127,
   "id": "7686e8a0-8801-4b65-9463-6ab3a6537027",
   "metadata": {},
   "outputs": [],
   "source": [
    "import joblib"
   ]
  },
  {
   "cell_type": "code",
   "execution_count": 128,
   "id": "c4603432-52c9-4ae0-9afb-babc1a4fcc00",
   "metadata": {},
   "outputs": [
    {
     "data": {
      "text/plain": [
       "['medical_insurance_model.pkl']"
      ]
     },
     "execution_count": 128,
     "metadata": {},
     "output_type": "execute_result"
    }
   ],
   "source": [
    "# Save the model as pickel file\n",
    "joblib.dump(model, \"medical_insurance_model.pkl\")"
   ]
  },
  {
   "cell_type": "code",
   "execution_count": 129,
   "id": "4986fdbd-e955-4131-8339-e129f6a5c8c8",
   "metadata": {},
   "outputs": [],
   "source": [
    "# load the model from the file\n",
    "loaded_model = joblib.load(\"medical_insurance_model.pkl\")"
   ]
  },
  {
   "cell_type": "code",
   "execution_count": 130,
   "id": "99857dc6-5fe2-4ce9-a168-fd691c341204",
   "metadata": {},
   "outputs": [
    {
     "data": {
      "text/plain": [
       "array([0.80434783, 1.        , 0.39117568, 0.        , 3.        ])"
      ]
     },
     "execution_count": 130,
     "metadata": {},
     "output_type": "execute_result"
    }
   ],
   "source": [
    "X_train[0]"
   ]
  },
  {
   "cell_type": "code",
   "execution_count": 131,
   "id": "4da6a184-65b0-455b-ab2a-c1ed35c9b514",
   "metadata": {},
   "outputs": [
    {
     "data": {
      "text/html": [
       "<div>\n",
       "<style scoped>\n",
       "    .dataframe tbody tr th:only-of-type {\n",
       "        vertical-align: middle;\n",
       "    }\n",
       "\n",
       "    .dataframe tbody tr th {\n",
       "        vertical-align: top;\n",
       "    }\n",
       "\n",
       "    .dataframe thead th {\n",
       "        text-align: right;\n",
       "    }\n",
       "</style>\n",
       "<table border=\"1\" class=\"dataframe\">\n",
       "  <thead>\n",
       "    <tr style=\"text-align: right;\">\n",
       "      <th></th>\n",
       "      <th>age</th>\n",
       "      <th>sex</th>\n",
       "      <th>bmi</th>\n",
       "      <th>children</th>\n",
       "      <th>smoker</th>\n",
       "      <th>region</th>\n",
       "      <th>charges</th>\n",
       "    </tr>\n",
       "  </thead>\n",
       "  <tbody>\n",
       "    <tr>\n",
       "      <th>0</th>\n",
       "      <td>0.021739</td>\n",
       "      <td>1</td>\n",
       "      <td>0.321227</td>\n",
       "      <td>0</td>\n",
       "      <td>1</td>\n",
       "      <td>3</td>\n",
       "      <td>16884.924</td>\n",
       "    </tr>\n",
       "  </tbody>\n",
       "</table>\n",
       "</div>"
      ],
      "text/plain": [
       "        age  sex       bmi  children  smoker  region    charges\n",
       "0  0.021739    1  0.321227         0       1       3  16884.924"
      ]
     },
     "execution_count": 131,
     "metadata": {},
     "output_type": "execute_result"
    }
   ],
   "source": [
    "df2.head(1)"
   ]
  },
  {
   "cell_type": "code",
   "execution_count": 132,
   "id": "a74f4275-4e44-45ba-817c-7cc4bc07c7cb",
   "metadata": {},
   "outputs": [
    {
     "name": "stdin",
     "output_type": "stream",
     "text": [
      "Enter the age:  20\n",
      "Enter the sex:  1\n",
      "Enter the bmi:  19\n",
      "Enter whether you are smoker or not:  1\n",
      "Enter the region you belong:  0\n"
     ]
    }
   ],
   "source": [
    "age = float(input(\"Enter the age: \"))\n",
    "sex = float(input(\"Enter the sex: \" ))\n",
    "bmi = float(input(\"Enter the bmi: \"))\n",
    "smoker = float(input(\"Enter whether you are smoker or not: \"))\n",
    "region = float(input(\"Enter the region you belong: \"))"
   ]
  },
  {
   "cell_type": "code",
   "execution_count": 133,
   "id": "834e4db1-91ac-460c-9e06-fb3be45d8f5b",
   "metadata": {},
   "outputs": [],
   "source": [
    "X_new = np.array([[age, sex, bmi, smoker, region]])"
   ]
  },
  {
   "cell_type": "code",
   "execution_count": 134,
   "id": "d5e451a4-a373-4aec-9e6e-da18f284383c",
   "metadata": {},
   "outputs": [
    {
     "data": {
      "text/plain": [
       "array([[20.,  1., 19.,  1.,  0.]])"
      ]
     },
     "execution_count": 134,
     "metadata": {},
     "output_type": "execute_result"
    }
   ],
   "source": [
    "X_new"
   ]
  },
  {
   "cell_type": "code",
   "execution_count": 135,
   "id": "f35c8739-9331-46e4-b479-32a69f114a12",
   "metadata": {},
   "outputs": [
    {
     "data": {
      "text/plain": [
       "array([7.94920848])"
      ]
     },
     "execution_count": 135,
     "metadata": {},
     "output_type": "execute_result"
    }
   ],
   "source": [
    "result = loaded_model.predict(X_new)\n",
    "result"
   ]
  },
  {
   "cell_type": "code",
   "execution_count": null,
   "id": "431d7348-eebb-4156-8056-d08d34b4c8e0",
   "metadata": {},
   "outputs": [],
   "source": []
  }
 ],
 "metadata": {
  "kernelspec": {
   "display_name": "Python 3 (ipykernel)",
   "language": "python",
   "name": "python3"
  },
  "language_info": {
   "codemirror_mode": {
    "name": "ipython",
    "version": 3
   },
   "file_extension": ".py",
   "mimetype": "text/x-python",
   "name": "python",
   "nbconvert_exporter": "python",
   "pygments_lexer": "ipython3",
   "version": "3.11.2"
  }
 },
 "nbformat": 4,
 "nbformat_minor": 5
}
